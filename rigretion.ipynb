{
 "cells": [
  {
   "cell_type": "code",
   "execution_count": 4,
   "metadata": {},
   "outputs": [
    {
     "data": {
      "text/html": [
       "<div>\n",
       "<style scoped>\n",
       "    .dataframe tbody tr th:only-of-type {\n",
       "        vertical-align: middle;\n",
       "    }\n",
       "\n",
       "    .dataframe tbody tr th {\n",
       "        vertical-align: top;\n",
       "    }\n",
       "\n",
       "    .dataframe thead th {\n",
       "        text-align: right;\n",
       "    }\n",
       "</style>\n",
       "<table border=\"1\" class=\"dataframe\">\n",
       "  <thead>\n",
       "    <tr style=\"text-align: right;\">\n",
       "      <th></th>\n",
       "      <th>Country</th>\n",
       "      <th>Year</th>\n",
       "      <th>Status</th>\n",
       "      <th>Adult_Mortality</th>\n",
       "      <th>infant_deaths</th>\n",
       "      <th>Alcohol</th>\n",
       "      <th>percentage expenditure</th>\n",
       "      <th>Hepatitis_B</th>\n",
       "      <th>Measles</th>\n",
       "      <th>bmi</th>\n",
       "      <th>...</th>\n",
       "      <th>Total_expenditure</th>\n",
       "      <th>Diphtheria</th>\n",
       "      <th>HIV/AIDS</th>\n",
       "      <th>GDP</th>\n",
       "      <th>Population</th>\n",
       "      <th>thinness_1-19_years</th>\n",
       "      <th>thinness_5-9_years</th>\n",
       "      <th>Income_composition_of_resources</th>\n",
       "      <th>Schooling</th>\n",
       "      <th>L</th>\n",
       "    </tr>\n",
       "  </thead>\n",
       "  <tbody>\n",
       "    <tr>\n",
       "      <th>0</th>\n",
       "      <td>Afghanistan</td>\n",
       "      <td>2015</td>\n",
       "      <td>Developing</td>\n",
       "      <td>263.0</td>\n",
       "      <td>62</td>\n",
       "      <td>0.01</td>\n",
       "      <td>71.279624</td>\n",
       "      <td>65.0</td>\n",
       "      <td>1154</td>\n",
       "      <td>19.1</td>\n",
       "      <td>...</td>\n",
       "      <td>8.16</td>\n",
       "      <td>65.0</td>\n",
       "      <td>0.1</td>\n",
       "      <td>584.259210</td>\n",
       "      <td>33736494.0</td>\n",
       "      <td>17.2</td>\n",
       "      <td>17.3</td>\n",
       "      <td>0.479</td>\n",
       "      <td>10.1</td>\n",
       "      <td>65.0</td>\n",
       "    </tr>\n",
       "    <tr>\n",
       "      <th>1</th>\n",
       "      <td>Afghanistan</td>\n",
       "      <td>2014</td>\n",
       "      <td>Developing</td>\n",
       "      <td>271.0</td>\n",
       "      <td>64</td>\n",
       "      <td>0.01</td>\n",
       "      <td>73.523582</td>\n",
       "      <td>62.0</td>\n",
       "      <td>492</td>\n",
       "      <td>18.6</td>\n",
       "      <td>...</td>\n",
       "      <td>8.18</td>\n",
       "      <td>62.0</td>\n",
       "      <td>0.1</td>\n",
       "      <td>612.696514</td>\n",
       "      <td>327582.0</td>\n",
       "      <td>17.5</td>\n",
       "      <td>17.5</td>\n",
       "      <td>0.476</td>\n",
       "      <td>10.0</td>\n",
       "      <td>59.9</td>\n",
       "    </tr>\n",
       "    <tr>\n",
       "      <th>2</th>\n",
       "      <td>Afghanistan</td>\n",
       "      <td>2013</td>\n",
       "      <td>Developing</td>\n",
       "      <td>268.0</td>\n",
       "      <td>66</td>\n",
       "      <td>0.01</td>\n",
       "      <td>73.219243</td>\n",
       "      <td>64.0</td>\n",
       "      <td>430</td>\n",
       "      <td>18.1</td>\n",
       "      <td>...</td>\n",
       "      <td>8.13</td>\n",
       "      <td>64.0</td>\n",
       "      <td>0.1</td>\n",
       "      <td>631.744976</td>\n",
       "      <td>31731688.0</td>\n",
       "      <td>17.7</td>\n",
       "      <td>17.7</td>\n",
       "      <td>0.470</td>\n",
       "      <td>9.9</td>\n",
       "      <td>59.9</td>\n",
       "    </tr>\n",
       "    <tr>\n",
       "      <th>3</th>\n",
       "      <td>Afghanistan</td>\n",
       "      <td>2012</td>\n",
       "      <td>Developing</td>\n",
       "      <td>272.0</td>\n",
       "      <td>69</td>\n",
       "      <td>0.01</td>\n",
       "      <td>78.184215</td>\n",
       "      <td>67.0</td>\n",
       "      <td>2787</td>\n",
       "      <td>17.6</td>\n",
       "      <td>...</td>\n",
       "      <td>8.52</td>\n",
       "      <td>67.0</td>\n",
       "      <td>0.1</td>\n",
       "      <td>669.959000</td>\n",
       "      <td>3696958.0</td>\n",
       "      <td>17.9</td>\n",
       "      <td>18.0</td>\n",
       "      <td>0.463</td>\n",
       "      <td>9.8</td>\n",
       "      <td>59.5</td>\n",
       "    </tr>\n",
       "    <tr>\n",
       "      <th>4</th>\n",
       "      <td>Afghanistan</td>\n",
       "      <td>2011</td>\n",
       "      <td>Developing</td>\n",
       "      <td>275.0</td>\n",
       "      <td>71</td>\n",
       "      <td>0.01</td>\n",
       "      <td>7.097109</td>\n",
       "      <td>68.0</td>\n",
       "      <td>3013</td>\n",
       "      <td>17.2</td>\n",
       "      <td>...</td>\n",
       "      <td>7.87</td>\n",
       "      <td>68.0</td>\n",
       "      <td>0.1</td>\n",
       "      <td>63.537231</td>\n",
       "      <td>2978599.0</td>\n",
       "      <td>18.2</td>\n",
       "      <td>18.2</td>\n",
       "      <td>0.454</td>\n",
       "      <td>9.5</td>\n",
       "      <td>59.2</td>\n",
       "    </tr>\n",
       "    <tr>\n",
       "      <th>...</th>\n",
       "      <td>...</td>\n",
       "      <td>...</td>\n",
       "      <td>...</td>\n",
       "      <td>...</td>\n",
       "      <td>...</td>\n",
       "      <td>...</td>\n",
       "      <td>...</td>\n",
       "      <td>...</td>\n",
       "      <td>...</td>\n",
       "      <td>...</td>\n",
       "      <td>...</td>\n",
       "      <td>...</td>\n",
       "      <td>...</td>\n",
       "      <td>...</td>\n",
       "      <td>...</td>\n",
       "      <td>...</td>\n",
       "      <td>...</td>\n",
       "      <td>...</td>\n",
       "      <td>...</td>\n",
       "      <td>...</td>\n",
       "      <td>...</td>\n",
       "    </tr>\n",
       "    <tr>\n",
       "      <th>2932</th>\n",
       "      <td>Zimbabwe</td>\n",
       "      <td>2004</td>\n",
       "      <td>Developing</td>\n",
       "      <td>723.0</td>\n",
       "      <td>27</td>\n",
       "      <td>4.36</td>\n",
       "      <td>0.000000</td>\n",
       "      <td>68.0</td>\n",
       "      <td>31</td>\n",
       "      <td>27.1</td>\n",
       "      <td>...</td>\n",
       "      <td>7.13</td>\n",
       "      <td>65.0</td>\n",
       "      <td>33.6</td>\n",
       "      <td>454.366654</td>\n",
       "      <td>12777511.0</td>\n",
       "      <td>9.4</td>\n",
       "      <td>9.4</td>\n",
       "      <td>0.407</td>\n",
       "      <td>9.2</td>\n",
       "      <td>44.3</td>\n",
       "    </tr>\n",
       "    <tr>\n",
       "      <th>2933</th>\n",
       "      <td>Zimbabwe</td>\n",
       "      <td>2003</td>\n",
       "      <td>Developing</td>\n",
       "      <td>715.0</td>\n",
       "      <td>26</td>\n",
       "      <td>4.06</td>\n",
       "      <td>0.000000</td>\n",
       "      <td>7.0</td>\n",
       "      <td>998</td>\n",
       "      <td>26.7</td>\n",
       "      <td>...</td>\n",
       "      <td>6.52</td>\n",
       "      <td>68.0</td>\n",
       "      <td>36.7</td>\n",
       "      <td>453.351155</td>\n",
       "      <td>12633897.0</td>\n",
       "      <td>9.8</td>\n",
       "      <td>9.9</td>\n",
       "      <td>0.418</td>\n",
       "      <td>9.5</td>\n",
       "      <td>44.5</td>\n",
       "    </tr>\n",
       "    <tr>\n",
       "      <th>2934</th>\n",
       "      <td>Zimbabwe</td>\n",
       "      <td>2002</td>\n",
       "      <td>Developing</td>\n",
       "      <td>73.0</td>\n",
       "      <td>25</td>\n",
       "      <td>4.43</td>\n",
       "      <td>0.000000</td>\n",
       "      <td>73.0</td>\n",
       "      <td>304</td>\n",
       "      <td>26.3</td>\n",
       "      <td>...</td>\n",
       "      <td>6.53</td>\n",
       "      <td>71.0</td>\n",
       "      <td>39.8</td>\n",
       "      <td>57.348340</td>\n",
       "      <td>125525.0</td>\n",
       "      <td>1.2</td>\n",
       "      <td>1.3</td>\n",
       "      <td>0.427</td>\n",
       "      <td>10.0</td>\n",
       "      <td>44.8</td>\n",
       "    </tr>\n",
       "    <tr>\n",
       "      <th>2935</th>\n",
       "      <td>Zimbabwe</td>\n",
       "      <td>2001</td>\n",
       "      <td>Developing</td>\n",
       "      <td>686.0</td>\n",
       "      <td>25</td>\n",
       "      <td>1.72</td>\n",
       "      <td>0.000000</td>\n",
       "      <td>76.0</td>\n",
       "      <td>529</td>\n",
       "      <td>25.9</td>\n",
       "      <td>...</td>\n",
       "      <td>6.16</td>\n",
       "      <td>75.0</td>\n",
       "      <td>42.1</td>\n",
       "      <td>548.587312</td>\n",
       "      <td>12366165.0</td>\n",
       "      <td>1.6</td>\n",
       "      <td>1.7</td>\n",
       "      <td>0.427</td>\n",
       "      <td>9.8</td>\n",
       "      <td>45.3</td>\n",
       "    </tr>\n",
       "    <tr>\n",
       "      <th>2936</th>\n",
       "      <td>Zimbabwe</td>\n",
       "      <td>2000</td>\n",
       "      <td>Developing</td>\n",
       "      <td>665.0</td>\n",
       "      <td>24</td>\n",
       "      <td>1.68</td>\n",
       "      <td>0.000000</td>\n",
       "      <td>79.0</td>\n",
       "      <td>1483</td>\n",
       "      <td>25.5</td>\n",
       "      <td>...</td>\n",
       "      <td>7.10</td>\n",
       "      <td>78.0</td>\n",
       "      <td>43.5</td>\n",
       "      <td>547.358879</td>\n",
       "      <td>12222251.0</td>\n",
       "      <td>11.0</td>\n",
       "      <td>11.2</td>\n",
       "      <td>0.434</td>\n",
       "      <td>9.8</td>\n",
       "      <td>46.0</td>\n",
       "    </tr>\n",
       "  </tbody>\n",
       "</table>\n",
       "<p>2937 rows × 22 columns</p>\n",
       "</div>"
      ],
      "text/plain": [
       "          Country  Year      Status  Adult_Mortality  infant_deaths  Alcohol  \\\n",
       "0     Afghanistan  2015  Developing            263.0             62     0.01   \n",
       "1     Afghanistan  2014  Developing            271.0             64     0.01   \n",
       "2     Afghanistan  2013  Developing            268.0             66     0.01   \n",
       "3     Afghanistan  2012  Developing            272.0             69     0.01   \n",
       "4     Afghanistan  2011  Developing            275.0             71     0.01   \n",
       "...           ...   ...         ...              ...            ...      ...   \n",
       "2932     Zimbabwe  2004  Developing            723.0             27     4.36   \n",
       "2933     Zimbabwe  2003  Developing            715.0             26     4.06   \n",
       "2934     Zimbabwe  2002  Developing             73.0             25     4.43   \n",
       "2935     Zimbabwe  2001  Developing            686.0             25     1.72   \n",
       "2936     Zimbabwe  2000  Developing            665.0             24     1.68   \n",
       "\n",
       "      percentage expenditure  Hepatitis_B  Measles    bmi  ...  \\\n",
       "0                  71.279624         65.0      1154  19.1  ...   \n",
       "1                  73.523582         62.0       492  18.6  ...   \n",
       "2                  73.219243         64.0       430  18.1  ...   \n",
       "3                  78.184215         67.0      2787  17.6  ...   \n",
       "4                   7.097109         68.0      3013  17.2  ...   \n",
       "...                      ...          ...       ...   ...  ...   \n",
       "2932                0.000000         68.0        31  27.1  ...   \n",
       "2933                0.000000          7.0       998  26.7  ...   \n",
       "2934                0.000000         73.0       304  26.3  ...   \n",
       "2935                0.000000         76.0       529  25.9  ...   \n",
       "2936                0.000000         79.0      1483  25.5  ...   \n",
       "\n",
       "      Total_expenditure  Diphtheria   HIV/AIDS         GDP  Population  \\\n",
       "0                  8.16        65.0        0.1  584.259210  33736494.0   \n",
       "1                  8.18        62.0        0.1  612.696514    327582.0   \n",
       "2                  8.13        64.0        0.1  631.744976  31731688.0   \n",
       "3                  8.52        67.0        0.1  669.959000   3696958.0   \n",
       "4                  7.87        68.0        0.1   63.537231   2978599.0   \n",
       "...                 ...         ...        ...         ...         ...   \n",
       "2932               7.13        65.0       33.6  454.366654  12777511.0   \n",
       "2933               6.52        68.0       36.7  453.351155  12633897.0   \n",
       "2934               6.53        71.0       39.8   57.348340    125525.0   \n",
       "2935               6.16        75.0       42.1  548.587312  12366165.0   \n",
       "2936               7.10        78.0       43.5  547.358879  12222251.0   \n",
       "\n",
       "      thinness_1-19_years  thinness_5-9_years  \\\n",
       "0                    17.2                17.3   \n",
       "1                    17.5                17.5   \n",
       "2                    17.7                17.7   \n",
       "3                    17.9                18.0   \n",
       "4                    18.2                18.2   \n",
       "...                   ...                 ...   \n",
       "2932                  9.4                 9.4   \n",
       "2933                  9.8                 9.9   \n",
       "2934                  1.2                 1.3   \n",
       "2935                  1.6                 1.7   \n",
       "2936                 11.0                11.2   \n",
       "\n",
       "      Income_composition_of_resources  Schooling     L  \n",
       "0                               0.479       10.1  65.0  \n",
       "1                               0.476       10.0  59.9  \n",
       "2                               0.470        9.9  59.9  \n",
       "3                               0.463        9.8  59.5  \n",
       "4                               0.454        9.5  59.2  \n",
       "...                               ...        ...   ...  \n",
       "2932                            0.407        9.2  44.3  \n",
       "2933                            0.418        9.5  44.5  \n",
       "2934                            0.427       10.0  44.8  \n",
       "2935                            0.427        9.8  45.3  \n",
       "2936                            0.434        9.8  46.0  \n",
       "\n",
       "[2937 rows x 22 columns]"
      ]
     },
     "execution_count": 4,
     "metadata": {},
     "output_type": "execute_result"
    }
   ],
   "source": [
    "import numpy as np\n",
    "import pandas as pd\n",
    "import matplotlib.pyplot as plt\n",
    "import seaborn as sns\n",
    "from sklearn.linear_model import LogisticRegression\n",
    "from sklearn.model_selection import train_test_split\n",
    "from sklearn.neighbors import KNeighborsClassifier\n",
    "\n",
    "###\n",
    "import pandas as pd\n",
    "df1 = pd.read_csv(r'C:\\Users\\talia\\Downloads/Life Expectancy Data.csv')\n",
    "df1"
   ]
  },
  {
   "cell_type": "code",
   "execution_count": null,
   "metadata": {},
   "outputs": [],
   "source": []
  },
  {
   "cell_type": "code",
   "execution_count": null,
   "metadata": {},
   "outputs": [],
   "source": []
  },
  {
   "cell_type": "code",
   "execution_count": null,
   "metadata": {},
   "outputs": [],
   "source": []
  },
  {
   "cell_type": "markdown",
   "metadata": {},
   "source": [
    "Each row represent a population of 1000 people\n",
    "\n",
    "__Country__  -  dummy variable\n",
    "\n",
    "__Year__  - from 2000 to 2015\n",
    "\n",
    "__Status__    - Developing=1\n",
    "            Developed=0\n",
    "\n",
    "__Adult_Mortality__  -Adult Mortality Rates of both sexes (probability of dying between 15 and 60 years per 1000 population) \n",
    "\n",
    "__infant_deaths__   - Number of Infant Deaths per 1000 population\n",
    "\n",
    "__Alcohol__  - in litres of pure alcohol per capita (15+)\n",
    "\n",
    "__percentage expenditure__ -? Expenditure on health as a percentage of Gross Domestic Product per capita(%) $\n",
    "\n",
    "__Hepatitis_B__ - Hepatitis B (HepB) immunization coverage among 1-year-olds (%) #\n",
    "\n",
    "__Measles__  - Measles - number of reported cases per 1000 population #\n",
    "\n",
    "__bmi__   -Average Body Mass Index of entire population\n",
    "\n",
    "__under_five_deaths__ - Number of under-five deaths per 1000 population\n",
    "\n",
    "__Polio__  - Polio (Pol3) immunization coverage among 1-year-olds (%) #\n",
    "\n",
    "__Total_expenditure__  - General government expenditure on health as a percentage of total government expenditure (%) $\n",
    "\n",
    "__Diphtheria__ -Diphtheria tetanus toxoid and pertussis (DTP3) immunization coverage among 1-year-olds (%) #  \n",
    "\n",
    "__HIV/AIDS__ - Deaths per 1 000 live births HIV/AIDS (0-4 years) #\n",
    "         \n",
    "__GDP_  - Gross Domestic Product per capita (in USD) $\n",
    "\n",
    "__Population__  - population of the cauntry\n",
    "\n",
    "__thinness_1-19_years__  - Prevalence of thinness among children and adolescents for Age 10 to 19 (% )\n",
    "\n",
    "__thinness_5-9_years__    - Prevalence of thinness among children for Age 5 to 9(%)\n",
    "\n",
    "__Income_composition_of_resources__ - Human Development Index in terms of income composition of resources (index ranging from 0 to 1)\n",
    "\n",
    "__Schooling__   - Number of years of Schooling(years)\n",
    "\n",
    "__L  - Life expectancy in age__"
   ]
  },
  {
   "cell_type": "code",
   "execution_count": null,
   "metadata": {},
   "outputs": [],
   "source": []
  },
  {
   "cell_type": "code",
   "execution_count": null,
   "metadata": {},
   "outputs": [],
   "source": []
  },
  {
   "cell_type": "code",
   "execution_count": null,
   "metadata": {},
   "outputs": [],
   "source": []
  },
  {
   "cell_type": "code",
   "execution_count": null,
   "metadata": {},
   "outputs": [],
   "source": []
  },
  {
   "cell_type": "code",
   "execution_count": null,
   "metadata": {},
   "outputs": [],
   "source": []
  },
  {
   "cell_type": "code",
   "execution_count": 5,
   "metadata": {},
   "outputs": [],
   "source": [
    "df1.replace({'Developing': '1', 'Developed': '0'}, inplace= True)\n",
    "\n",
    "from sklearn.preprocessing import LabelEncoder\n",
    "labelencoder = LabelEncoder()\n",
    "df1['Country']= labelencoder.fit_transform(df1['Country'])\n",
    "\n",
    "#df1[\"Adult_Mortality_avareg\"]=df1.Adult_Mortality/1000 #df.Adult_Mortality.transform(\n",
    "#df1.drop(\"Adult_Mortality\",axis= 'columns', inplace= True)\n",
    "\n",
    "#df1[\"infant_deaths_avareg\"]=df1.infant_deaths/1000 \n",
    "#df1.drop(\"infant_deaths\",axis= 'columns', inplace= True)\n",
    "\n",
    "#df1[\"under_five_deaths_avareg\"]=df1.under_five_deaths/1000 \n",
    "#df1.drop(\"under_five_deaths\",axis= 'columns', inplace= True)"
   ]
  },
  {
   "cell_type": "code",
   "execution_count": null,
   "metadata": {},
   "outputs": [],
   "source": []
  },
  {
   "cell_type": "code",
   "execution_count": null,
   "metadata": {},
   "outputs": [],
   "source": []
  },
  {
   "cell_type": "code",
   "execution_count": null,
   "metadata": {},
   "outputs": [],
   "source": []
  },
  {
   "cell_type": "code",
   "execution_count": 5,
   "metadata": {},
   "outputs": [
    {
     "data": {
      "image/png": "[encoded data removed]",
      "text/plain": [
       "<Figure size 432x288 with 1 Axes>"
      ]
     },
     "metadata": {
      "needs_background": "light"
     },
     "output_type": "display_data"
    }
   ],
   "source": [
    "import matplotlib.pyplot as plt\n",
    "a= df1.L.value_counts()\n",
    "#value_counts()\n",
    "s= df1.groupby('L').count()\n",
    "dfa= a.to_frame()\n",
    "#y= dfa.L\n",
    "plt.plot(s['Year'],'g')\n",
    "#g = df.L.value_counts()\n",
    "#from __future__ import division\n",
    "#pcts = g / g.sum()\n",
    "#pcts\n",
    "figsize= (15,10)\n",
    "\n",
    "# להגדיל את הגרף"
   ]
  },
  {
   "cell_type": "code",
   "execution_count": null,
   "metadata": {},
   "outputs": [],
   "source": []
  },
  {
   "cell_type": "code",
   "execution_count": null,
   "metadata": {},
   "outputs": [],
   "source": []
  },
  {
   "cell_type": "code",
   "execution_count": 6,
   "metadata": {},
   "outputs": [
    {
     "data": {
      "image/png": "[encoded data removed]",
      "text/plain": [
       "<Figure size 720x504 with 2 Axes>"
      ]
     },
     "metadata": {
      "needs_background": "light"
     },
     "output_type": "display_data"
    }
   ],
   "source": [
    "import seaborn as sns\n",
    "plt.subplots(figsize=(10, 7))\n",
    "sns.heatmap(df1.corr(), linewidths=0.4 , square=True, cmap = 'Oranges')\n",
    "plt.title('...')\n",
    "plt.show()"
   ]
  },
  {
   "cell_type": "code",
   "execution_count": 3,
   "metadata": {},
   "outputs": [
    {
     "data": {
      "text/plain": [
       "Country                              0\n",
       "Year                                 0\n",
       "Status                               0\n",
       "Adult_Mortality                      9\n",
       "infant_deaths                        0\n",
       "Alcohol                            194\n",
       "percentage expenditure               0\n",
       "Hepatitis_B                        553\n",
       "Measles                              0\n",
       "bmi                                 34\n",
       "under_five_deaths                    0\n",
       "Polio                               19\n",
       "Total_expenditure                  226\n",
       "Diphtheria                          19\n",
       " HIV/AIDS                            0\n",
       "GDP                                447\n",
       "Population                         651\n",
       "thinness_1-19_years                 34\n",
       "thinness_5-9_years                  34\n",
       "Income_composition_of_resources    166\n",
       "Schooling                          162\n",
       "L                                    9\n",
       "dtype: int64"
      ]
     },
     "execution_count": 3,
     "metadata": {},
     "output_type": "execute_result"
    }
   ],
   "source": [
    "df1.isnull().sum()"
   ]
  },
  {
   "cell_type": "code",
   "execution_count": null,
   "metadata": {},
   "outputs": [],
   "source": []
  },
  {
   "cell_type": "code",
   "execution_count": 6,
   "metadata": {},
   "outputs": [],
   "source": [
    "df= df1.dropna(subset=['Adult_Mortality','bmi','Diphtheria','thinness_1-19_years','thinness_5-9_years','Polio','L'])\n",
    "#,'BMI','Diphtheria','thinness_1-19_years','thinness_5-9_years'\n"
   ]
  },
  {
   "cell_type": "code",
   "execution_count": null,
   "metadata": {},
   "outputs": [],
   "source": []
  },
  {
   "cell_type": "code",
   "execution_count": null,
   "metadata": {},
   "outputs": [],
   "source": []
  },
  {
   "cell_type": "code",
   "execution_count": null,
   "metadata": {},
   "outputs": [],
   "source": []
  },
  {
   "cell_type": "code",
   "execution_count": null,
   "metadata": {},
   "outputs": [],
   "source": []
  },
  {
   "cell_type": "code",
   "execution_count": 61,
   "metadata": {},
   "outputs": [
    {
     "data": {
      "text/plain": [
       "Country                              0\n",
       "Year                                 0\n",
       "Status                               0\n",
       "Adult_Mortality                      0\n",
       "infant_deaths                        0\n",
       "Alcohol                            175\n",
       "percentage expenditure               0\n",
       "Hepatitis_B                        525\n",
       "Measles                              0\n",
       "bmi                                  0\n",
       "under_five_deaths                    0\n",
       "Polio                                0\n",
       "Total_expenditure                  212\n",
       "Diphtheria                           0\n",
       " HIV/AIDS                            0\n",
       "GDP                                435\n",
       "Population                         644\n",
       "thinness_1-19_years                  0\n",
       "thinness_5-9_years                   0\n",
       "Income_composition_of_resources    160\n",
       "Schooling                          160\n",
       "L                                    0\n",
       "dtype: int64"
      ]
     },
     "execution_count": 61,
     "metadata": {},
     "output_type": "execute_result"
    }
   ],
   "source": [
    "df.isnull().sum()"
   ]
  },
  {
   "cell_type": "code",
   "execution_count": null,
   "metadata": {},
   "outputs": [],
   "source": []
  },
  {
   "cell_type": "code",
   "execution_count": 7,
   "metadata": {},
   "outputs": [
    {
     "name": "stderr",
     "output_type": "stream",
     "text": [
      "<ipython-input-7-c1950dbb23af>:1: SettingWithCopyWarning: \n",
      "A value is trying to be set on a copy of a slice from a DataFrame.\n",
      "Try using .loc[row_indexer,col_indexer] = value instead\n",
      "\n",
      "See the caveats in the documentation: https://pandas.pydata.org/pandas-docs/stable/user_guide/indexing.html#returning-a-view-versus-a-copy\n",
      "  df[\"group_mean_Alcohol\"]=df.groupby([\"Country\"]).Alcohol.transform(\"mean\")\n",
      "C:\\Users\\talia\\anaconda3\\lib\\site-packages\\pandas\\core\\series.py:4517: SettingWithCopyWarning: \n",
      "A value is trying to be set on a copy of a slice from a DataFrame\n",
      "\n",
      "See the caveats in the documentation: https://pandas.pydata.org/pandas-docs/stable/user_guide/indexing.html#returning-a-view-versus-a-copy\n",
      "  return super().fillna(\n",
      "<ipython-input-7-c1950dbb23af>:4: SettingWithCopyWarning: \n",
      "A value is trying to be set on a copy of a slice from a DataFrame.\n",
      "Try using .loc[row_indexer,col_indexer] = value instead\n",
      "\n",
      "See the caveats in the documentation: https://pandas.pydata.org/pandas-docs/stable/user_guide/indexing.html#returning-a-view-versus-a-copy\n",
      "  df[\"group_mean_Hepatitis_B\"]=df.groupby([\"Country\"]).Hepatitis_B.transform(\"mean\")\n",
      "<ipython-input-7-c1950dbb23af>:6: SettingWithCopyWarning: \n",
      "A value is trying to be set on a copy of a slice from a DataFrame.\n",
      "Try using .loc[row_indexer,col_indexer] = value instead\n",
      "\n",
      "See the caveats in the documentation: https://pandas.pydata.org/pandas-docs/stable/user_guide/indexing.html#returning-a-view-versus-a-copy\n",
      "  df[\"group_mean_Hepatitis_B_Year\"]=df.groupby([\"Year\"]).Hepatitis_B.transform(\"mean\")\n",
      "<ipython-input-7-c1950dbb23af>:9: SettingWithCopyWarning: \n",
      "A value is trying to be set on a copy of a slice from a DataFrame.\n",
      "Try using .loc[row_indexer,col_indexer] = value instead\n",
      "\n",
      "See the caveats in the documentation: https://pandas.pydata.org/pandas-docs/stable/user_guide/indexing.html#returning-a-view-versus-a-copy\n",
      "  df[\"group_mean_Total_expenditure\"]=df.groupby([\"Country\"]).Total_expenditure.transform(\"mean\")\n",
      "<ipython-input-7-c1950dbb23af>:11: SettingWithCopyWarning: \n",
      "A value is trying to be set on a copy of a slice from a DataFrame.\n",
      "Try using .loc[row_indexer,col_indexer] = value instead\n",
      "\n",
      "See the caveats in the documentation: https://pandas.pydata.org/pandas-docs/stable/user_guide/indexing.html#returning-a-view-versus-a-copy\n",
      "  df[\"group_mean_Total_expenditure_Year\"]=df.groupby([\"Year\"]).Total_expenditure.transform(\"mean\")\n",
      "<ipython-input-7-c1950dbb23af>:14: SettingWithCopyWarning: \n",
      "A value is trying to be set on a copy of a slice from a DataFrame.\n",
      "Try using .loc[row_indexer,col_indexer] = value instead\n",
      "\n",
      "See the caveats in the documentation: https://pandas.pydata.org/pandas-docs/stable/user_guide/indexing.html#returning-a-view-versus-a-copy\n",
      "  df[\"group_mean_GDP\"]=df.groupby([\"Year\"]).GDP.transform(\"mean\")\n",
      "<ipython-input-7-c1950dbb23af>:17: SettingWithCopyWarning: \n",
      "A value is trying to be set on a copy of a slice from a DataFrame.\n",
      "Try using .loc[row_indexer,col_indexer] = value instead\n",
      "\n",
      "See the caveats in the documentation: https://pandas.pydata.org/pandas-docs/stable/user_guide/indexing.html#returning-a-view-versus-a-copy\n",
      "  df[\"group_mean_Population\"]=df.groupby([\"Year\"]).Population.transform(\"mean\")\n",
      "<ipython-input-7-c1950dbb23af>:20: SettingWithCopyWarning: \n",
      "A value is trying to be set on a copy of a slice from a DataFrame.\n",
      "Try using .loc[row_indexer,col_indexer] = value instead\n",
      "\n",
      "See the caveats in the documentation: https://pandas.pydata.org/pandas-docs/stable/user_guide/indexing.html#returning-a-view-versus-a-copy\n",
      "  df[\"group_mean_Income_composition_of_resources\"]=df.groupby([\"Year\"]).Income_composition_of_resources.transform(\"mean\")\n",
      "<ipython-input-7-c1950dbb23af>:23: SettingWithCopyWarning: \n",
      "A value is trying to be set on a copy of a slice from a DataFrame.\n",
      "Try using .loc[row_indexer,col_indexer] = value instead\n",
      "\n",
      "See the caveats in the documentation: https://pandas.pydata.org/pandas-docs/stable/user_guide/indexing.html#returning-a-view-versus-a-copy\n",
      "  df[\"group_mean_Schooling\"]=df.groupby([\"Year\"]).Schooling.transform(\"mean\")\n"
     ]
    }
   ],
   "source": [
    "df[\"group_mean_Alcohol\"]=df.groupby([\"Country\"]).Alcohol.transform(\"mean\")\n",
    "df.Alcohol.fillna(df.group_mean_Alcohol, inplace= True)\n",
    "\n",
    "df[\"group_mean_Hepatitis_B\"]=df.groupby([\"Country\"]).Hepatitis_B.transform(\"mean\")\n",
    "df.Hepatitis_B.fillna(df.group_mean_Hepatitis_B, inplace= True)\n",
    "df[\"group_mean_Hepatitis_B_Year\"]=df.groupby([\"Year\"]).Hepatitis_B.transform(\"mean\")\n",
    "df.Hepatitis_B.fillna(df.group_mean_Hepatitis_B_Year, inplace= True)\n",
    "\n",
    "df[\"group_mean_Total_expenditure\"]=df.groupby([\"Country\"]).Total_expenditure.transform(\"mean\")\n",
    "df.Total_expenditure.fillna(df.group_mean_Total_expenditure, inplace= True)\n",
    "df[\"group_mean_Total_expenditure_Year\"]=df.groupby([\"Year\"]).Total_expenditure.transform(\"mean\")\n",
    "df.Total_expenditure.fillna(df.group_mean_Total_expenditure_Year, inplace= True)\n",
    "\n",
    "df[\"group_mean_GDP\"]=df.groupby([\"Year\"]).GDP.transform(\"mean\")\n",
    "df.GDP.fillna(df.group_mean_GDP, inplace= True)\n",
    "\n",
    "df[\"group_mean_Population\"]=df.groupby([\"Year\"]).Population.transform(\"mean\")\n",
    "df.Population.fillna(df.group_mean_Population, inplace= True)\n",
    "\n",
    "df[\"group_mean_Income_composition_of_resources\"]=df.groupby([\"Year\"]).Income_composition_of_resources.transform(\"mean\")\n",
    "df.Income_composition_of_resources.fillna(df.group_mean_Income_composition_of_resources, inplace= True)\n",
    "\n",
    "df[\"group_mean_Schooling\"]=df.groupby([\"Year\"]).Schooling.transform(\"mean\")\n",
    "df.Schooling.fillna(df.group_mean_Schooling, inplace= True)\n",
    "\n",
    "#df1.drop(\"group_mean_Alcohol\",\"group_mean_Hepatitis_B\",\"group_mean_Total_expenditure\",\"group_mean_GDP\",\"group_mean_Population\",\"group_mean_Income_composition_of_resources\",\"group_mean_Schooling\",\"group_mean_Hepatitis_B_Year\",\"group_mean_Total_expenditure_Year\" ,axis= 'columns', inplace= True)"
   ]
  },
  {
   "cell_type": "code",
   "execution_count": null,
   "metadata": {},
   "outputs": [],
   "source": []
  },
  {
   "cell_type": "code",
   "execution_count": null,
   "metadata": {},
   "outputs": [],
   "source": []
  },
  {
   "cell_type": "code",
   "execution_count": null,
   "metadata": {},
   "outputs": [],
   "source": []
  },
  {
   "cell_type": "code",
   "execution_count": null,
   "metadata": {},
   "outputs": [],
   "source": []
  },
  {
   "cell_type": "code",
   "execution_count": 63,
   "metadata": {},
   "outputs": [
    {
     "data": {
      "text/plain": [
       "Country                                         0\n",
       "Year                                            0\n",
       "Status                                          0\n",
       "Adult_Mortality                                 0\n",
       "infant_deaths                                   0\n",
       "Alcohol                                         0\n",
       "percentage expenditure                          0\n",
       "Hepatitis_B                                   144\n",
       "Measles                                         0\n",
       "bmi                                             0\n",
       "under_five_deaths                               0\n",
       "Polio                                           0\n",
       "Total_expenditure                              32\n",
       "Diphtheria                                      0\n",
       " HIV/AIDS                                       0\n",
       "GDP                                           400\n",
       "Population                                    640\n",
       "thinness_1-19_years                             0\n",
       "thinness_5-9_years                              0\n",
       "Income_composition_of_resources               160\n",
       "Schooling                                     160\n",
       "L                                               0\n",
       "group_mean_Alcohol                              0\n",
       "group_mean_Hepatitis_B                        144\n",
       "group_mean_Total_expenditure                   32\n",
       "group_mean_GDP                                400\n",
       "group_mean_Population                         640\n",
       "group_mean_Income_composition_of_resources    160\n",
       "group_mean_Schooling                          160\n",
       "dtype: int64"
      ]
     },
     "execution_count": 63,
     "metadata": {},
     "output_type": "execute_result"
    }
   ],
   "source": [
    "df.isnull().sum()"
   ]
  },
  {
   "cell_type": "code",
   "execution_count": 78,
   "metadata": {},
   "outputs": [
    {
     "data": {
      "text/plain": [
       "Country                                         0\n",
       "Year                                            0\n",
       "Status                                          0\n",
       "Adult_Mortality                                 0\n",
       "infant_deaths                                   0\n",
       "Alcohol                                         0\n",
       "percentage expenditure                          0\n",
       "Hepatitis_B                                     0\n",
       "Measles                                         0\n",
       "bmi                                             0\n",
       "under_five_deaths                               0\n",
       "Polio                                           0\n",
       "Total_expenditure                               0\n",
       "Diphtheria                                      0\n",
       " HIV/AIDS                                       0\n",
       "GDP                                             0\n",
       "Population                                      0\n",
       "thinness_1-19_years                             0\n",
       "thinness_5-9_years                              0\n",
       "Income_composition_of_resources                 0\n",
       "Schooling                                       0\n",
       "L                                               0\n",
       "group_mean_Alcohol                              0\n",
       "group_mean_Hepatitis_B                        144\n",
       "group_mean_Total_expenditure                   32\n",
       "group_mean_GDP                                  0\n",
       "group_mean_Population                           0\n",
       "group_mean_Income_composition_of_resources      0\n",
       "group_mean_Schooling                            0\n",
       "group_mean_Hepatitis_B_Year                     0\n",
       "group_mean_Total_expenditure_Year               0\n",
       "dtype: int64"
      ]
     },
     "execution_count": 78,
     "metadata": {},
     "output_type": "execute_result"
    }
   ],
   "source": [
    "df.isnull().sum()"
   ]
  },
  {
   "cell_type": "code",
   "execution_count": 8,
   "metadata": {},
   "outputs": [
    {
     "name": "stderr",
     "output_type": "stream",
     "text": [
      "C:\\Users\\talia\\anaconda3\\lib\\site-packages\\pandas\\core\\frame.py:4163: SettingWithCopyWarning: \n",
      "A value is trying to be set on a copy of a slice from a DataFrame\n",
      "\n",
      "See the caveats in the documentation: https://pandas.pydata.org/pandas-docs/stable/user_guide/indexing.html#returning-a-view-versus-a-copy\n",
      "  return super().drop(\n"
     ]
    }
   ],
   "source": [
    "df.drop(['group_mean_Alcohol',\"group_mean_Hepatitis_B\",\"group_mean_Total_expenditure\",\"group_mean_GDP\",\"group_mean_Population\",\"group_mean_Income_composition_of_resources\",\"group_mean_Schooling\",\"group_mean_Hepatitis_B_Year\"], axis='columns' ,inplace= True)\n",
    "df.drop(\"group_mean_Total_expenditure_Year\", axis='columns' ,inplace= True)\n",
    "#,\"group_mean_Hepatitis_B\",\"group_mean_Total_expenditure\",\"group_mean_GDP\",\"group_mean_Population\",\"group_mean_Income_composition_of_resources\")\n",
    "#df= df.drop(\"group_mean_Schooling\",\"group_mean_Hepatitis_B_Year\",\"group_mean_Total_expenditure_Year\")"
   ]
  },
  {
   "cell_type": "code",
   "execution_count": null,
   "metadata": {},
   "outputs": [],
   "source": []
  },
  {
   "cell_type": "code",
   "execution_count": 93,
   "metadata": {},
   "outputs": [
    {
     "data": {
      "text/plain": [
       "Country                            0\n",
       "Year                               0\n",
       "Status                             0\n",
       "Adult_Mortality                    0\n",
       "infant_deaths                      0\n",
       "Alcohol                            0\n",
       "percentage expenditure             0\n",
       "Hepatitis_B                        0\n",
       "Measles                            0\n",
       "bmi                                0\n",
       "under_five_deaths                  0\n",
       "Polio                              0\n",
       "Total_expenditure                  0\n",
       "Diphtheria                         0\n",
       " HIV/AIDS                          0\n",
       "GDP                                0\n",
       "Population                         0\n",
       "thinness_1-19_years                0\n",
       "thinness_5-9_years                 0\n",
       "Income_composition_of_resources    0\n",
       "Schooling                          0\n",
       "L                                  0\n",
       "dtype: int64"
      ]
     },
     "execution_count": 93,
     "metadata": {},
     "output_type": "execute_result"
    }
   ],
   "source": [
    "df.isnull().sum()"
   ]
  },
  {
   "cell_type": "code",
   "execution_count": null,
   "metadata": {},
   "outputs": [],
   "source": []
  },
  {
   "cell_type": "code",
   "execution_count": null,
   "metadata": {},
   "outputs": [],
   "source": []
  },
  {
   "cell_type": "code",
   "execution_count": null,
   "metadata": {},
   "outputs": [],
   "source": []
  },
  {
   "cell_type": "code",
   "execution_count": null,
   "metadata": {},
   "outputs": [],
   "source": []
  },
  {
   "cell_type": "code",
   "execution_count": 94,
   "metadata": {},
   "outputs": [],
   "source": []
  },
  {
   "cell_type": "markdown",
   "metadata": {},
   "source": [
    "modeling"
   ]
  },
  {
   "cell_type": "code",
   "execution_count": 28,
   "metadata": {},
   "outputs": [],
   "source": [
    "\n",
    "# import models and Model evaluation\n",
    "from sklearn.metrics import r2_score\n",
    "from sklearn.metrics import mean_absolute_error\n",
    "from sklearn.metrics import mean_squared_error\n",
    "from sklearn.model_selection import train_test_split\n",
    "from sklearn.linear_model import LinearRegression\n",
    "from sklearn.tree import DecisionTreeRegressor\n",
    "from sklearn.neighbors import KNeighborsRegressor"
   ]
  },
  {
   "cell_type": "code",
   "execution_count": null,
   "metadata": {},
   "outputs": [],
   "source": []
  },
  {
   "cell_type": "code",
   "execution_count": 9,
   "metadata": {},
   "outputs": [
    {
     "name": "stdout",
     "output_type": "stream",
     "text": [
      "(2021, 21) (867, 21)\n",
      "(2021,) (867,)\n"
     ]
    }
   ],
   "source": [
    "# L= life expectancy\n",
    "from sklearn.model_selection import train_test_split\n",
    "x = df.drop('L', axis=1)\n",
    "y = df.L\n",
    "x_train, x_test, y_train, y_test = train_test_split(x, y, test_size=0.3)\n",
    "print (x_train.shape, x_test.shape)\n",
    "print(y_train.shape, y_test.shape)"
   ]
  },
  {
   "cell_type": "code",
   "execution_count": null,
   "metadata": {},
   "outputs": [],
   "source": []
  },
  {
   "cell_type": "code",
   "execution_count": 12,
   "metadata": {},
   "outputs": [
    {
     "data": {
      "image/png": "[encoded data removed]",
      "text/plain": [
       "<Figure size 1440x1440 with 20 Axes>"
      ]
     },
     "metadata": {
      "needs_background": "light"
     },
     "output_type": "display_data"
    }
   ],
   "source": [
    "#?\n",
    "x_test.hist(figsize=(20,20),bins = 20, color=\"g\")\n",
    "plt.show()"
   ]
  },
  {
   "cell_type": "code",
   "execution_count": 24,
   "metadata": {},
   "outputs": [
    {
     "data": {
      "image/png": "[encoded data removed]",
      "text/plain": [
       "<Figure size 576x360 with 1 Axes>"
      ]
     },
     "metadata": {
      "needs_background": "light"
     },
     "output_type": "display_data"
    }
   ],
   "source": [
    "y_test.hist(figsize=(8,5),bins = 20, color=\"#127005DC\")\n",
    "plt.title(\"age\")\n",
    "plt.show()"
   ]
  },
  {
   "cell_type": "code",
   "execution_count": 30,
   "metadata": {},
   "outputs": [
    {
     "name": "stdout",
     "output_type": "stream",
     "text": [
      "LinearRegression :\n",
      "Accuracy (R2): 80.13 %\n",
      "MAE: 3.0839\n",
      "MSE: 16.8872\n",
      "RMSE: 4.1094\n",
      "\n",
      "DecisionTreeRegressor :\n",
      "Accuracy (R2): 91.0 %\n",
      "MAE: 1.6451\n",
      "MSE: 7.648\n",
      "RMSE: 2.7655\n",
      "\n",
      "KNeighborsRegressor :\n",
      "Accuracy (R2): 6.25 %\n",
      "MAE: 6.6756\n",
      "MSE: 79.6976\n",
      "RMSE: 8.9273\n",
      "\n",
      "The best model is  DecisionTreeRegressor , and the R2 score is  0.91 = 91.0 % .\n"
     ]
    }
   ],
   "source": [
    "\n",
    "def calcAccuracy(regressionModels):\n",
    "    \n",
    "    # fit the model to the training data\n",
    "    model = regressionModels().fit(x_train, y_train)\n",
    "    # make predictions on the testing set\n",
    "    y_pred = model.predict(x_test)\n",
    " \n",
    "    modelsName = regressionModels.__name__\n",
    "    \n",
    "    print(modelsName,':')\n",
    "    print(\"Accuracy (R2):\", round(r2_score(y_test, y_pred)*100,2), \"%\")\n",
    "    print(\"MAE:\", round(mean_absolute_error(y_test, y_pred),4))\n",
    "    print(\"MSE:\", round(mean_squared_error(y_test, y_pred),4))\n",
    "    print(\"RMSE:\", round(np.sqrt(mean_squared_error(y_test, y_pred)),4))\n",
    "    print()\n",
    "    return round(r2_score(y_test, y_pred), 4)\n",
    "\n",
    "\n",
    "modelsPredictionComparison = pd.DataFrame(np.array(y_test) , columns=[\"Real Price\"])\n",
    "def DFofPreVal(regressionModels , modelsPredictionComparison):\n",
    "    \n",
    "    # fit the model to the training data\n",
    "    model = regressionModels().fit(x_train, y_train)\n",
    "    # make predictions on the testing set\n",
    "    y_pred = model.predict(x_test)\n",
    "\n",
    "    #add the prediction to the df\n",
    "    modelsName = regressionModels.__name__\n",
    "    modelsNameForDf=modelsName+\" Predicted Price\"\n",
    "    return pd.DataFrame(y_pred , columns=[modelsNameForDf])\n",
    "\n",
    "\n",
    "\n",
    "models = [LinearRegression,\n",
    "          DecisionTreeRegressor, \n",
    "          KNeighborsRegressor]\n",
    "\n",
    "results={}\n",
    "\n",
    "best=0\n",
    "bestModel=\"a\"\n",
    "for i in models:\n",
    "    checkeBest = calcAccuracy(i)\n",
    "    results[i.__name__]=checkeBest\n",
    "    if (checkeBest>best):\n",
    "        bestModel=i\n",
    "        best=checkeBest\n",
    "\n",
    "print(\"The best model is \" ,bestModel.__name__, \", and the R2 score is \" , round(best , 4) ,\"=\" ,round(best*100,2), \"% .\")"
   ]
  },
  {
   "cell_type": "code",
   "execution_count": null,
   "metadata": {},
   "outputs": [],
   "source": []
  },
  {
   "cell_type": "code",
   "execution_count": null,
   "metadata": {},
   "outputs": [],
   "source": []
  }
 ],
 "metadata": {
  "kernelspec": {
   "display_name": "Python 3",
   "language": "python",
   "name": "python3"
  },
  "language_info": {
   "codemirror_mode": {
    "name": "ipython",
    "version": 3
   },
   "file_extension": ".py",
   "mimetype": "text/x-python",
   "name": "python",
   "nbconvert_exporter": "python",
   "pygments_lexer": "ipython3",
   "version": "3.8.5"
  }
 },
 "nbformat": 4,
 "nbformat_minor": 4
}
